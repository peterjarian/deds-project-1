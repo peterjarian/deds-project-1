{
 "cells": [
  {
   "cell_type": "markdown",
   "metadata": {},
   "source": [
    "## Connecties"
   ]
  },
  {
   "cell_type": "markdown",
   "metadata": {},
   "source": [
    "### Adventure Works"
   ]
  },
  {
   "cell_type": "code",
   "execution_count": 1,
   "metadata": {},
   "outputs": [],
   "source": [
    "import pyodbc\n",
    "\n",
    "ADVENTURE_WORKS_PATH = \"./data/adventure-works.mdb\"\n",
    "\n",
    "adventure_works_conn = pyodbc.connect(f\"DRIVER={{MDBTools}};DBQ={ADVENTURE_WORKS_PATH};\")\n",
    "adventure_works_cursor = adventure_works_conn.cursor()"
   ]
  },
  {
   "cell_type": "markdown",
   "metadata": {},
   "source": [
    "### AenC"
   ]
  },
  {
   "cell_type": "code",
   "execution_count": 2,
   "metadata": {},
   "outputs": [
    {
     "name": "stdout",
     "output_type": "stream",
     "text": [
      "(300, 'Tee Shirt', 'Tank Top', 'Small', 'White', 18, 9, 'tshirtw.bmp', 'Clothes')\n",
      "(301, 'Tee Shirt', 'V-neck', 'Medium', 'Orange', 39, 14, 'tshirto.bmp', 'Clothes')\n",
      "(302, 'Tee Shirt', 'Crew Neck', 'One size fits all', 'Black', 72, 14, 'tshirtb.bmp', 'Clothes')\n",
      "(400, 'Baseball Cap', 'Cotton Cap', 'One size fits all', 'Black', 92, 9, 'capb.bmp', 'Accessories')\n",
      "(401, 'Baseball Cap', 'Wool cap', 'One size fits all', 'White', 12, 10, 'capw.bmp', 'Accessories')\n"
     ]
    }
   ],
   "source": [
    "import sqlite3\n",
    "\n",
    "AENC_PATH = \"./data/aenc.sqlite\"\n",
    "\n",
    "aenc_conn = sqlite3.connect(AENC_PATH)\n",
    "aenc_cursor = aenc_conn.cursor()"
   ]
  },
  {
   "cell_type": "markdown",
   "metadata": {},
   "source": [
    "### "
   ]
  }
 ],
 "metadata": {
  "kernelspec": {
   "display_name": "deds-project-1-5bBFYxYB-py3.12",
   "language": "python",
   "name": "python3"
  },
  "language_info": {
   "codemirror_mode": {
    "name": "ipython",
    "version": 3
   },
   "file_extension": ".py",
   "mimetype": "text/x-python",
   "name": "python",
   "nbconvert_exporter": "python",
   "pygments_lexer": "ipython3",
   "version": "3.12.9"
  }
 },
 "nbformat": 4,
 "nbformat_minor": 2
}
