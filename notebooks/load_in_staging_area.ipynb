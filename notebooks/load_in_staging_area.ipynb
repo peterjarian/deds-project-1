{
 "cells": [
  {
   "cell_type": "markdown",
   "metadata": {},
   "source": [
    "## Imports"
   ]
  },
  {
   "cell_type": "code",
   "execution_count": 75,
   "metadata": {},
   "outputs": [],
   "source": [
    "import pyodbc\n",
    "import sqlite3\n",
    "import mysql.connector"
   ]
  },
  {
   "cell_type": "markdown",
   "metadata": {},
   "source": [
    "## Connecties"
   ]
  },
  {
   "cell_type": "markdown",
   "metadata": {},
   "source": [
    "### Adventure Works"
   ]
  },
  {
   "cell_type": "code",
   "execution_count": 76,
   "metadata": {},
   "outputs": [],
   "source": [
    "ADVENTURE_WORKS_PATH = \"./data/adventure-works.mdb\"\n",
    "\n",
    "adventure_works_conn = pyodbc.connect(f\"DRIVER={{MDBTools}};DBQ={ADVENTURE_WORKS_PATH};\")\n",
    "adventure_works_cursor = adventure_works_conn.cursor()"
   ]
  },
  {
   "cell_type": "markdown",
   "metadata": {},
   "source": [
    "### AenC"
   ]
  },
  {
   "cell_type": "code",
   "execution_count": 77,
   "metadata": {},
   "outputs": [],
   "source": [
    "AENC_PATH = \"./data/aenc.sqlite\"\n",
    "\n",
    "aenc_conn = sqlite3.connect(AENC_PATH)\n",
    "aenc_cursor = aenc_conn.cursor()"
   ]
  },
  {
   "cell_type": "markdown",
   "metadata": {},
   "source": [
    "### "
   ]
  },
  {
   "cell_type": "markdown",
   "metadata": {},
   "source": [
    "### Northwind"
   ]
  },
  {
   "cell_type": "code",
   "execution_count": 78,
   "metadata": {},
   "outputs": [],
   "source": [
    "NORTHWIND_CONNECTION_URL = f\"DRIVER={{ODBC Driver 18 for SQL Server}};SERVER=host.docker.internal;DATABASE=master;UID=sa;PWD=P@ssw0rd123!;TrustServerCertificate=yes;\"\n",
    "\n",
    "northwind_conn = pyodbc.connect(NORTHWIND_CONNECTION_URL)\n",
    "northwind_cursor = northwind_conn.cursor()"
   ]
  },
  {
   "cell_type": "markdown",
   "metadata": {},
   "source": [
    "### Staging area"
   ]
  },
  {
   "cell_type": "code",
   "execution_count": null,
   "metadata": {},
   "outputs": [],
   "source": [
    "staging_area_conn = mysql.connector.connect(host=\"host.docker.internal\", user=\"deds\", passwd=\"deds\", database=\"deds\")\n",
    "staging_area_cursor = staging_area_conn.cursor()"
   ]
  }
 ],
 "metadata": {
  "kernelspec": {
   "display_name": "deds-project-1-5bBFYxYB-py3.12",
   "language": "python",
   "name": "python3"
  },
  "language_info": {
   "codemirror_mode": {
    "name": "ipython",
    "version": 3
   },
   "file_extension": ".py",
   "mimetype": "text/x-python",
   "name": "python",
   "nbconvert_exporter": "python",
   "pygments_lexer": "ipython3",
   "version": "3.12.9"
  }
 },
 "nbformat": 4,
 "nbformat_minor": 2
}
